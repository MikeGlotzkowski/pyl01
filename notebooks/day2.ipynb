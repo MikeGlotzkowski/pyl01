{
 "cells": [
  {
   "cell_type": "code",
   "execution_count": 84,
   "id": "72b4ed8f",
   "metadata": {},
   "outputs": [
    {
     "name": "stdout",
     "output_type": "stream",
     "text": [
      "Requirement already satisfied: flatten_json in /home/sebastian/dev/teamfight-tactis-data-crawler/.venv/lib/python3.9/site-packages (0.1.13)\n",
      "Requirement already satisfied: pymongo in /home/sebastian/dev/teamfight-tactis-data-crawler/.venv/lib/python3.9/site-packages (4.2.0)\n",
      "Requirement already satisfied: pandas in /home/sebastian/dev/teamfight-tactis-data-crawler/.venv/lib/python3.9/site-packages (1.5.0)\n",
      "Requirement already satisfied: sklearn in /home/sebastian/dev/teamfight-tactis-data-crawler/.venv/lib/python3.9/site-packages (0.0)\n",
      "Requirement already satisfied: six in /home/sebastian/dev/teamfight-tactis-data-crawler/.venv/lib/python3.9/site-packages (from flatten_json) (1.16.0)\n",
      "Requirement already satisfied: numpy>=1.20.3 in /home/sebastian/dev/teamfight-tactis-data-crawler/.venv/lib/python3.9/site-packages (from pandas) (1.23.3)\n",
      "Requirement already satisfied: python-dateutil>=2.8.1 in /home/sebastian/dev/teamfight-tactis-data-crawler/.venv/lib/python3.9/site-packages (from pandas) (2.8.2)\n",
      "Requirement already satisfied: pytz>=2020.1 in /home/sebastian/dev/teamfight-tactis-data-crawler/.venv/lib/python3.9/site-packages (from pandas) (2022.2.1)\n",
      "Requirement already satisfied: scikit-learn in /home/sebastian/dev/teamfight-tactis-data-crawler/.venv/lib/python3.9/site-packages (from sklearn) (1.1.2)\n",
      "Requirement already satisfied: threadpoolctl>=2.0.0 in /home/sebastian/dev/teamfight-tactis-data-crawler/.venv/lib/python3.9/site-packages (from scikit-learn->sklearn) (3.1.0)\n",
      "Requirement already satisfied: scipy>=1.3.2 in /home/sebastian/dev/teamfight-tactis-data-crawler/.venv/lib/python3.9/site-packages (from scikit-learn->sklearn) (1.9.1)\n",
      "Requirement already satisfied: joblib>=1.0.0 in /home/sebastian/dev/teamfight-tactis-data-crawler/.venv/lib/python3.9/site-packages (from scikit-learn->sklearn) (1.2.0)\n",
      "Note: you may need to restart the kernel to use updated packages.\n"
     ]
    }
   ],
   "source": [
    "%pip install flatten_json pymongo pandas sklearn\n",
    "import pandas as pd\n",
    "import pymongo\n",
    "import sklearn\n",
    "from flatten_json import flatten\n"
   ]
  },
  {
   "cell_type": "code",
   "execution_count": 85,
   "id": "035f0d20",
   "metadata": {},
   "outputs": [],
   "source": [
    "mongo_client = pymongo.MongoClient(\"mongodb://localhost:27017/\")\n",
    "mongo_database = mongo_client[\"tft_data\"]\n",
    "mongo_container = mongo_database[\"challenger\"]\n",
    "all_data = list(mongo_container.find().limit(100))"
   ]
  },
  {
   "cell_type": "code",
   "execution_count": 86,
   "id": "3c516378",
   "metadata": {},
   "outputs": [
    {
     "name": "stderr",
     "output_type": "stream",
     "text": [
      "/tmp/ipykernel_42551/1217064332.py:47: FutureWarning: The behavior of .astype from SparseDtype to a non-sparse dtype is deprecated. In a future version, this will return a non-sparse array with the requested dtype. To retain the old behavior, use `obj.astype(SparseDtype(dtype))`\n",
      "  df.to_csv(\"out.csv\", index=False)\n"
     ]
    },
    {
     "ename": "KeyboardInterrupt",
     "evalue": "",
     "output_type": "error",
     "traceback": [
      "\u001b[0;31m---------------------------------------------------------------------------\u001b[0m",
      "\u001b[0;31mKeyboardInterrupt\u001b[0m                         Traceback (most recent call last)",
      "Cell \u001b[0;32mIn [86], line 47\u001b[0m\n\u001b[1;32m     30\u001b[0m df \u001b[39m=\u001b[39m df\u001b[39m.\u001b[39mjoin(\n\u001b[1;32m     31\u001b[0m             pd\u001b[39m.\u001b[39mDataFrame\u001b[39m.\u001b[39msparse\u001b[39m.\u001b[39mfrom_spmatrix(\n\u001b[1;32m     32\u001b[0m                 mlb\u001b[39m.\u001b[39mfit_transform(df\u001b[39m.\u001b[39mpop(\u001b[39m'\u001b[39m\u001b[39maugments\u001b[39m\u001b[39m'\u001b[39m)),\n\u001b[0;32m   (...)\u001b[0m\n\u001b[1;32m     41\u001b[0m                 index\u001b[39m=\u001b[39mdf\u001b[39m.\u001b[39mindex,\n\u001b[1;32m     42\u001b[0m                 columns\u001b[39m=\u001b[39mmlb\u001b[39m.\u001b[39mclasses_))\n\u001b[1;32m     45\u001b[0m df \u001b[39m=\u001b[39m df\u001b[39m.\u001b[39mdrop(columns\u001b[39m=\u001b[39m[\u001b[39m'\u001b[39m\u001b[39mmetadata\u001b[39m\u001b[39m'\u001b[39m, \u001b[39m'\u001b[39m\u001b[39mtraits\u001b[39m\u001b[39m'\u001b[39m, \u001b[39m'\u001b[39m\u001b[39munits\u001b[39m\u001b[39m'\u001b[39m])\n\u001b[0;32m---> 47\u001b[0m df\u001b[39m.\u001b[39mto_csv(\u001b[39m\"\u001b[39m\u001b[39mout.csv\u001b[39m\u001b[39m\"\u001b[39m, index\u001b[39m=\u001b[39m\u001b[39mFalse\u001b[39;00m)\n\u001b[1;32m     48\u001b[0m df\n",
      "File \u001b[0;32m~/dev/teamfight-tactis-data-crawler/.venv/lib/python3.9/site-packages/pandas/util/_decorators.py:211\u001b[0m, in \u001b[0;36mdeprecate_kwarg.<locals>._deprecate_kwarg.<locals>.wrapper\u001b[0;34m(*args, **kwargs)\u001b[0m\n\u001b[1;32m    209\u001b[0m     \u001b[39melse\u001b[39;00m:\n\u001b[1;32m    210\u001b[0m         kwargs[new_arg_name] \u001b[39m=\u001b[39m new_arg_value\n\u001b[0;32m--> 211\u001b[0m \u001b[39mreturn\u001b[39;00m func(\u001b[39m*\u001b[39;49margs, \u001b[39m*\u001b[39;49m\u001b[39m*\u001b[39;49mkwargs)\n",
      "File \u001b[0;32m~/dev/teamfight-tactis-data-crawler/.venv/lib/python3.9/site-packages/pandas/core/generic.py:3721\u001b[0m, in \u001b[0;36mNDFrame.to_csv\u001b[0;34m(self, path_or_buf, sep, na_rep, float_format, columns, header, index, index_label, mode, encoding, compression, quoting, quotechar, lineterminator, chunksize, date_format, doublequote, escapechar, decimal, errors, storage_options)\u001b[0m\n\u001b[1;32m   3710\u001b[0m df \u001b[39m=\u001b[39m \u001b[39mself\u001b[39m \u001b[39mif\u001b[39;00m \u001b[39misinstance\u001b[39m(\u001b[39mself\u001b[39m, ABCDataFrame) \u001b[39melse\u001b[39;00m \u001b[39mself\u001b[39m\u001b[39m.\u001b[39mto_frame()\n\u001b[1;32m   3712\u001b[0m formatter \u001b[39m=\u001b[39m DataFrameFormatter(\n\u001b[1;32m   3713\u001b[0m     frame\u001b[39m=\u001b[39mdf,\n\u001b[1;32m   3714\u001b[0m     header\u001b[39m=\u001b[39mheader,\n\u001b[0;32m   (...)\u001b[0m\n\u001b[1;32m   3718\u001b[0m     decimal\u001b[39m=\u001b[39mdecimal,\n\u001b[1;32m   3719\u001b[0m )\n\u001b[0;32m-> 3721\u001b[0m \u001b[39mreturn\u001b[39;00m DataFrameRenderer(formatter)\u001b[39m.\u001b[39;49mto_csv(\n\u001b[1;32m   3722\u001b[0m     path_or_buf,\n\u001b[1;32m   3723\u001b[0m     lineterminator\u001b[39m=\u001b[39;49mlineterminator,\n\u001b[1;32m   3724\u001b[0m     sep\u001b[39m=\u001b[39;49msep,\n\u001b[1;32m   3725\u001b[0m     encoding\u001b[39m=\u001b[39;49mencoding,\n\u001b[1;32m   3726\u001b[0m     errors\u001b[39m=\u001b[39;49merrors,\n\u001b[1;32m   3727\u001b[0m     compression\u001b[39m=\u001b[39;49mcompression,\n\u001b[1;32m   3728\u001b[0m     quoting\u001b[39m=\u001b[39;49mquoting,\n\u001b[1;32m   3729\u001b[0m     columns\u001b[39m=\u001b[39;49mcolumns,\n\u001b[1;32m   3730\u001b[0m     index_label\u001b[39m=\u001b[39;49mindex_label,\n\u001b[1;32m   3731\u001b[0m     mode\u001b[39m=\u001b[39;49mmode,\n\u001b[1;32m   3732\u001b[0m     chunksize\u001b[39m=\u001b[39;49mchunksize,\n\u001b[1;32m   3733\u001b[0m     quotechar\u001b[39m=\u001b[39;49mquotechar,\n\u001b[1;32m   3734\u001b[0m     date_format\u001b[39m=\u001b[39;49mdate_format,\n\u001b[1;32m   3735\u001b[0m     doublequote\u001b[39m=\u001b[39;49mdoublequote,\n\u001b[1;32m   3736\u001b[0m     escapechar\u001b[39m=\u001b[39;49mescapechar,\n\u001b[1;32m   3737\u001b[0m     storage_options\u001b[39m=\u001b[39;49mstorage_options,\n\u001b[1;32m   3738\u001b[0m )\n",
      "File \u001b[0;32m~/dev/teamfight-tactis-data-crawler/.venv/lib/python3.9/site-packages/pandas/util/_decorators.py:211\u001b[0m, in \u001b[0;36mdeprecate_kwarg.<locals>._deprecate_kwarg.<locals>.wrapper\u001b[0;34m(*args, **kwargs)\u001b[0m\n\u001b[1;32m    209\u001b[0m     \u001b[39melse\u001b[39;00m:\n\u001b[1;32m    210\u001b[0m         kwargs[new_arg_name] \u001b[39m=\u001b[39m new_arg_value\n\u001b[0;32m--> 211\u001b[0m \u001b[39mreturn\u001b[39;00m func(\u001b[39m*\u001b[39;49margs, \u001b[39m*\u001b[39;49m\u001b[39m*\u001b[39;49mkwargs)\n",
      "File \u001b[0;32m~/dev/teamfight-tactis-data-crawler/.venv/lib/python3.9/site-packages/pandas/io/formats/format.py:1189\u001b[0m, in \u001b[0;36mDataFrameRenderer.to_csv\u001b[0;34m(self, path_or_buf, encoding, sep, columns, index_label, mode, compression, quoting, quotechar, lineterminator, chunksize, date_format, doublequote, escapechar, errors, storage_options)\u001b[0m\n\u001b[1;32m   1168\u001b[0m     created_buffer \u001b[39m=\u001b[39m \u001b[39mFalse\u001b[39;00m\n\u001b[1;32m   1170\u001b[0m csv_formatter \u001b[39m=\u001b[39m CSVFormatter(\n\u001b[1;32m   1171\u001b[0m     path_or_buf\u001b[39m=\u001b[39mpath_or_buf,\n\u001b[1;32m   1172\u001b[0m     lineterminator\u001b[39m=\u001b[39mlineterminator,\n\u001b[0;32m   (...)\u001b[0m\n\u001b[1;32m   1187\u001b[0m     formatter\u001b[39m=\u001b[39m\u001b[39mself\u001b[39m\u001b[39m.\u001b[39mfmt,\n\u001b[1;32m   1188\u001b[0m )\n\u001b[0;32m-> 1189\u001b[0m csv_formatter\u001b[39m.\u001b[39;49msave()\n\u001b[1;32m   1191\u001b[0m \u001b[39mif\u001b[39;00m created_buffer:\n\u001b[1;32m   1192\u001b[0m     \u001b[39massert\u001b[39;00m \u001b[39misinstance\u001b[39m(path_or_buf, StringIO)\n",
      "File \u001b[0;32m~/dev/teamfight-tactis-data-crawler/.venv/lib/python3.9/site-packages/pandas/io/formats/csvs.py:261\u001b[0m, in \u001b[0;36mCSVFormatter.save\u001b[0;34m(self)\u001b[0m\n\u001b[1;32m    241\u001b[0m \u001b[39mwith\u001b[39;00m get_handle(\n\u001b[1;32m    242\u001b[0m     \u001b[39mself\u001b[39m\u001b[39m.\u001b[39mfilepath_or_buffer,\n\u001b[1;32m    243\u001b[0m     \u001b[39mself\u001b[39m\u001b[39m.\u001b[39mmode,\n\u001b[0;32m   (...)\u001b[0m\n\u001b[1;32m    249\u001b[0m \n\u001b[1;32m    250\u001b[0m     \u001b[39m# Note: self.encoding is irrelevant here\u001b[39;00m\n\u001b[1;32m    251\u001b[0m     \u001b[39mself\u001b[39m\u001b[39m.\u001b[39mwriter \u001b[39m=\u001b[39m csvlib\u001b[39m.\u001b[39mwriter(\n\u001b[1;32m    252\u001b[0m         handles\u001b[39m.\u001b[39mhandle,\n\u001b[1;32m    253\u001b[0m         lineterminator\u001b[39m=\u001b[39m\u001b[39mself\u001b[39m\u001b[39m.\u001b[39mlineterminator,\n\u001b[0;32m   (...)\u001b[0m\n\u001b[1;32m    258\u001b[0m         quotechar\u001b[39m=\u001b[39m\u001b[39mself\u001b[39m\u001b[39m.\u001b[39mquotechar,\n\u001b[1;32m    259\u001b[0m     )\n\u001b[0;32m--> 261\u001b[0m     \u001b[39mself\u001b[39;49m\u001b[39m.\u001b[39;49m_save()\n",
      "File \u001b[0;32m~/dev/teamfight-tactis-data-crawler/.venv/lib/python3.9/site-packages/pandas/io/formats/csvs.py:266\u001b[0m, in \u001b[0;36mCSVFormatter._save\u001b[0;34m(self)\u001b[0m\n\u001b[1;32m    264\u001b[0m \u001b[39mif\u001b[39;00m \u001b[39mself\u001b[39m\u001b[39m.\u001b[39m_need_to_save_header:\n\u001b[1;32m    265\u001b[0m     \u001b[39mself\u001b[39m\u001b[39m.\u001b[39m_save_header()\n\u001b[0;32m--> 266\u001b[0m \u001b[39mself\u001b[39;49m\u001b[39m.\u001b[39;49m_save_body()\n",
      "File \u001b[0;32m~/dev/teamfight-tactis-data-crawler/.venv/lib/python3.9/site-packages/pandas/io/formats/csvs.py:304\u001b[0m, in \u001b[0;36mCSVFormatter._save_body\u001b[0;34m(self)\u001b[0m\n\u001b[1;32m    302\u001b[0m \u001b[39mif\u001b[39;00m start_i \u001b[39m>\u001b[39m\u001b[39m=\u001b[39m end_i:\n\u001b[1;32m    303\u001b[0m     \u001b[39mbreak\u001b[39;00m\n\u001b[0;32m--> 304\u001b[0m \u001b[39mself\u001b[39;49m\u001b[39m.\u001b[39;49m_save_chunk(start_i, end_i)\n",
      "File \u001b[0;32m~/dev/teamfight-tactis-data-crawler/.venv/lib/python3.9/site-packages/pandas/io/formats/csvs.py:311\u001b[0m, in \u001b[0;36mCSVFormatter._save_chunk\u001b[0;34m(self, start_i, end_i)\u001b[0m\n\u001b[1;32m    308\u001b[0m slicer \u001b[39m=\u001b[39m \u001b[39mslice\u001b[39m(start_i, end_i)\n\u001b[1;32m    309\u001b[0m df \u001b[39m=\u001b[39m \u001b[39mself\u001b[39m\u001b[39m.\u001b[39mobj\u001b[39m.\u001b[39miloc[slicer]\n\u001b[0;32m--> 311\u001b[0m res \u001b[39m=\u001b[39m df\u001b[39m.\u001b[39;49m_mgr\u001b[39m.\u001b[39;49mto_native_types(\u001b[39m*\u001b[39;49m\u001b[39m*\u001b[39;49m\u001b[39mself\u001b[39;49m\u001b[39m.\u001b[39;49m_number_format)\n\u001b[1;32m    312\u001b[0m data \u001b[39m=\u001b[39m [res\u001b[39m.\u001b[39miget_values(i) \u001b[39mfor\u001b[39;00m i \u001b[39min\u001b[39;00m \u001b[39mrange\u001b[39m(\u001b[39mlen\u001b[39m(res\u001b[39m.\u001b[39mitems))]\n\u001b[1;32m    314\u001b[0m ix \u001b[39m=\u001b[39m \u001b[39mself\u001b[39m\u001b[39m.\u001b[39mdata_index[slicer]\u001b[39m.\u001b[39m_format_native_types(\u001b[39m*\u001b[39m\u001b[39m*\u001b[39m\u001b[39mself\u001b[39m\u001b[39m.\u001b[39m_number_format)\n",
      "File \u001b[0;32m~/dev/teamfight-tactis-data-crawler/.venv/lib/python3.9/site-packages/pandas/core/internals/managers.py:500\u001b[0m, in \u001b[0;36mBaseBlockManager.to_native_types\u001b[0;34m(self, **kwargs)\u001b[0m\n\u001b[1;32m    495\u001b[0m \u001b[39mdef\u001b[39;00m \u001b[39mto_native_types\u001b[39m(\u001b[39mself\u001b[39m: T, \u001b[39m*\u001b[39m\u001b[39m*\u001b[39mkwargs) \u001b[39m-\u001b[39m\u001b[39m>\u001b[39m T:\n\u001b[1;32m    496\u001b[0m     \u001b[39m\"\"\"\u001b[39;00m\n\u001b[1;32m    497\u001b[0m \u001b[39m    Convert values to native types (strings / python objects) that are used\u001b[39;00m\n\u001b[1;32m    498\u001b[0m \u001b[39m    in formatting (repr / csv).\u001b[39;00m\n\u001b[1;32m    499\u001b[0m \u001b[39m    \"\"\"\u001b[39;00m\n\u001b[0;32m--> 500\u001b[0m     \u001b[39mreturn\u001b[39;00m \u001b[39mself\u001b[39;49m\u001b[39m.\u001b[39;49mapply(\u001b[39m\"\u001b[39;49m\u001b[39mto_native_types\u001b[39;49m\u001b[39m\"\u001b[39;49m, \u001b[39m*\u001b[39;49m\u001b[39m*\u001b[39;49mkwargs)\n",
      "File \u001b[0;32m~/dev/teamfight-tactis-data-crawler/.venv/lib/python3.9/site-packages/pandas/core/internals/managers.py:348\u001b[0m, in \u001b[0;36mBaseBlockManager.apply\u001b[0;34m(self, f, align_keys, ignore_failures, **kwargs)\u001b[0m\n\u001b[1;32m    346\u001b[0m         applied \u001b[39m=\u001b[39m b\u001b[39m.\u001b[39mapply(f, \u001b[39m*\u001b[39m\u001b[39m*\u001b[39mkwargs)\n\u001b[1;32m    347\u001b[0m     \u001b[39melse\u001b[39;00m:\n\u001b[0;32m--> 348\u001b[0m         applied \u001b[39m=\u001b[39m \u001b[39mgetattr\u001b[39;49m(b, f)(\u001b[39m*\u001b[39;49m\u001b[39m*\u001b[39;49mkwargs)\n\u001b[1;32m    349\u001b[0m \u001b[39mexcept\u001b[39;00m (\u001b[39mTypeError\u001b[39;00m, \u001b[39mNotImplementedError\u001b[39;00m):\n\u001b[1;32m    350\u001b[0m     \u001b[39mif\u001b[39;00m \u001b[39mnot\u001b[39;00m ignore_failures:\n",
      "File \u001b[0;32m~/dev/teamfight-tactis-data-crawler/.venv/lib/python3.9/site-packages/pandas/core/internals/blocks.py:542\u001b[0m, in \u001b[0;36mBlock.to_native_types\u001b[0;34m(self, na_rep, quoting, **kwargs)\u001b[0m\n\u001b[1;32m    539\u001b[0m \u001b[39m@final\u001b[39m\n\u001b[1;32m    540\u001b[0m \u001b[39mdef\u001b[39;00m \u001b[39mto_native_types\u001b[39m(\u001b[39mself\u001b[39m, na_rep\u001b[39m=\u001b[39m\u001b[39m\"\u001b[39m\u001b[39mnan\u001b[39m\u001b[39m\"\u001b[39m, quoting\u001b[39m=\u001b[39m\u001b[39mNone\u001b[39;00m, \u001b[39m*\u001b[39m\u001b[39m*\u001b[39mkwargs) \u001b[39m-\u001b[39m\u001b[39m>\u001b[39m Block:\n\u001b[1;32m    541\u001b[0m     \u001b[39m\"\"\"convert to our native types format\"\"\"\u001b[39;00m\n\u001b[0;32m--> 542\u001b[0m     result \u001b[39m=\u001b[39m to_native_types(\u001b[39mself\u001b[39;49m\u001b[39m.\u001b[39;49mvalues, na_rep\u001b[39m=\u001b[39;49mna_rep, quoting\u001b[39m=\u001b[39;49mquoting, \u001b[39m*\u001b[39;49m\u001b[39m*\u001b[39;49mkwargs)\n\u001b[1;32m    543\u001b[0m     \u001b[39mreturn\u001b[39;00m \u001b[39mself\u001b[39m\u001b[39m.\u001b[39mmake_block(result)\n",
      "File \u001b[0;32m~/dev/teamfight-tactis-data-crawler/.venv/lib/python3.9/site-packages/pandas/core/internals/blocks.py:2345\u001b[0m, in \u001b[0;36mto_native_types\u001b[0;34m(values, na_rep, quoting, float_format, decimal, **kwargs)\u001b[0m\n\u001b[1;32m   2342\u001b[0m \u001b[39melif\u001b[39;00m \u001b[39misinstance\u001b[39m(values, ExtensionArray):\n\u001b[1;32m   2343\u001b[0m     mask \u001b[39m=\u001b[39m isna(values)\n\u001b[0;32m-> 2345\u001b[0m     new_values \u001b[39m=\u001b[39m np\u001b[39m.\u001b[39masarray(values\u001b[39m.\u001b[39;49mastype(\u001b[39mobject\u001b[39;49m))\n\u001b[1;32m   2346\u001b[0m     new_values[mask] \u001b[39m=\u001b[39m na_rep\n\u001b[1;32m   2347\u001b[0m     \u001b[39mreturn\u001b[39;00m new_values\n",
      "File \u001b[0;32m~/dev/teamfight-tactis-data-crawler/.venv/lib/python3.9/site-packages/pandas/core/arrays/sparse/array.py:1341\u001b[0m, in \u001b[0;36mSparseArray.astype\u001b[0;34m(self, dtype, copy)\u001b[0m\n\u001b[1;32m   1339\u001b[0m dtype \u001b[39m=\u001b[39m \u001b[39mself\u001b[39m\u001b[39m.\u001b[39mdtype\u001b[39m.\u001b[39mupdate_dtype(dtype)\n\u001b[1;32m   1340\u001b[0m subtype \u001b[39m=\u001b[39m pandas_dtype(dtype\u001b[39m.\u001b[39m_subtype_with_str)\n\u001b[0;32m-> 1341\u001b[0m sp_values \u001b[39m=\u001b[39m astype_nansafe(\u001b[39mself\u001b[39;49m\u001b[39m.\u001b[39;49msp_values, subtype, copy\u001b[39m=\u001b[39;49mcopy)\n\u001b[1;32m   1343\u001b[0m \u001b[39m# error: Argument 1 to \"_simple_new\" of \"SparseArray\" has incompatible type\u001b[39;00m\n\u001b[1;32m   1344\u001b[0m \u001b[39m# \"ExtensionArray\"; expected \"ndarray\"\u001b[39;00m\n\u001b[1;32m   1345\u001b[0m \u001b[39mreturn\u001b[39;00m \u001b[39mself\u001b[39m\u001b[39m.\u001b[39m_simple_new(\n\u001b[1;32m   1346\u001b[0m     sp_values, \u001b[39mself\u001b[39m\u001b[39m.\u001b[39msp_index, dtype  \u001b[39m# type: ignore[arg-type]\u001b[39;00m\n\u001b[1;32m   1347\u001b[0m )\n",
      "File \u001b[0;32m~/dev/teamfight-tactis-data-crawler/.venv/lib/python3.9/site-packages/pandas/core/dtypes/astype.py:91\u001b[0m, in \u001b[0;36mastype_nansafe\u001b[0;34m(arr, dtype, copy, skipna)\u001b[0m\n\u001b[1;32m     71\u001b[0m \u001b[39m\"\"\"\u001b[39;00m\n\u001b[1;32m     72\u001b[0m \u001b[39mCast the elements of an array to a given dtype a nan-safe manner.\u001b[39;00m\n\u001b[1;32m     73\u001b[0m \n\u001b[0;32m   (...)\u001b[0m\n\u001b[1;32m     87\u001b[0m \u001b[39m    The dtype was a datetime64/timedelta64 dtype, but it had no unit.\u001b[39;00m\n\u001b[1;32m     88\u001b[0m \u001b[39m\"\"\"\u001b[39;00m\n\u001b[1;32m     90\u001b[0m \u001b[39m# We get here with 0-dim from sparse\u001b[39;00m\n\u001b[0;32m---> 91\u001b[0m arr \u001b[39m=\u001b[39m np\u001b[39m.\u001b[39;49matleast_1d(arr)\n\u001b[1;32m     93\u001b[0m \u001b[39m# dispatch on extension dtype if needed\u001b[39;00m\n\u001b[1;32m     94\u001b[0m \u001b[39mif\u001b[39;00m \u001b[39misinstance\u001b[39m(dtype, ExtensionDtype):\n",
      "File \u001b[0;32m<__array_function__ internals>:180\u001b[0m, in \u001b[0;36matleast_1d\u001b[0;34m(*args, **kwargs)\u001b[0m\n",
      "File \u001b[0;32m~/dev/teamfight-tactis-data-crawler/.venv/lib/python3.9/site-packages/numpy/core/shape_base.py:71\u001b[0m, in \u001b[0;36matleast_1d\u001b[0;34m(*arys)\u001b[0m\n\u001b[1;32m     69\u001b[0m         result \u001b[39m=\u001b[39m ary\n\u001b[1;32m     70\u001b[0m     res\u001b[39m.\u001b[39mappend(result)\n\u001b[0;32m---> 71\u001b[0m \u001b[39mif\u001b[39;00m \u001b[39mlen\u001b[39;49m(res) \u001b[39m==\u001b[39m \u001b[39m1\u001b[39m:\n\u001b[1;32m     72\u001b[0m     \u001b[39mreturn\u001b[39;00m res[\u001b[39m0\u001b[39m]\n\u001b[1;32m     73\u001b[0m \u001b[39melse\u001b[39;00m:\n",
      "\u001b[0;31mKeyboardInterrupt\u001b[0m: "
     ]
    }
   ],
   "source": [
    "df = pd.json_normalize(all_data, [\"info\", \"participants\"], [\"metadata\"])\n",
    "\n",
    "def trait_object_array_to_trait_array(trait_object_array):\n",
    "   return [f\"{trait['name']}_{trait['num_units']}_units\" for trait in trait_object_array]\n",
    "\n",
    "def units_object_array_to_unit_array(unit_object_array):\n",
    "   unit_array = []  \n",
    "   for unit in unit_object_array:\n",
    "      items = \"\"\n",
    "      for index, item in enumerate(unit['itemNames']):\n",
    "         items += f\"+item{index + 1}{item.replace('TFT_Item', '')}\"\n",
    "      unit_array.append(f\"tier_{unit['tier']}_{unit['character_id']}{items}\")\n",
    "   return unit_array\n",
    "\n",
    "def prefix_augements_with_order(augments):\n",
    "   return [f\"{index + 1}_{augment}\" for index, augment in enumerate(augments)]\n",
    "\n",
    "def get_match_id(metadata):\n",
    "   return metadata['match_id']\n",
    "\n",
    "df['traits'] = df['traits'].apply(trait_object_array_to_trait_array)\n",
    "df['units'] = df['units'].apply(units_object_array_to_unit_array)\n",
    "df['match_id'] = df['metadata'].apply(get_match_id)\n",
    "df['augments'] = df['augments'].apply(prefix_augements_with_order)\n",
    "\n",
    "from sklearn.preprocessing import MultiLabelBinarizer\n",
    "\n",
    "mlb = MultiLabelBinarizer(sparse_output=True)\n",
    "\n",
    "df = df.join(\n",
    "            pd.DataFrame.sparse.from_spmatrix(\n",
    "                mlb.fit_transform(df.pop('augments')),\n",
    "                index=df.index,\n",
    "                columns=mlb.classes_)).join(\n",
    "            pd.DataFrame.sparse.from_spmatrix(\n",
    "                mlb.fit_transform(df.pop('traits')),\n",
    "                index=df.index,\n",
    "                columns=mlb.classes_)).join(\n",
    "            pd.DataFrame.sparse.from_spmatrix(\n",
    "                mlb.fit_transform(df.pop('units')),\n",
    "                index=df.index,\n",
    "                columns=mlb.classes_))\n",
    "\n",
    "\n",
    "df = df.drop(columns=['metadata', 'traits', 'units'])\n",
    "\n",
    "df.to_csv(\"out.csv\", index=False)\n",
    "df"
   ]
  },
  {
   "cell_type": "code",
   "execution_count": null,
   "id": "b219cc77",
   "metadata": {},
   "outputs": [],
   "source": []
  }
 ],
 "metadata": {
  "kernelspec": {
   "display_name": "Python 3.9.12 ('.venv': venv)",
   "language": "python",
   "name": "python3"
  },
  "language_info": {
   "codemirror_mode": {
    "name": "ipython",
    "version": 3
   },
   "file_extension": ".py",
   "mimetype": "text/x-python",
   "name": "python",
   "nbconvert_exporter": "python",
   "pygments_lexer": "ipython3",
   "version": "3.9.12"
  },
  "vscode": {
   "interpreter": {
    "hash": "6cf61c04a036b091f887e0771b6843fe4d0b76bbf3e08300db57399e55b9acd9"
   }
  }
 },
 "nbformat": 4,
 "nbformat_minor": 5
}
