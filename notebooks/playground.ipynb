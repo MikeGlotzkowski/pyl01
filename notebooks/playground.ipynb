{
 "cells": [
  {
   "cell_type": "code",
   "execution_count": 4,
   "id": "72b4ed8f",
   "metadata": {},
   "outputs": [
    {
     "name": "stdout",
     "output_type": "stream",
     "text": [
      "Requirement already satisfied: pymongo in /home/sebastian/dev/teamfight-tactis-data-crawler/.venv/lib/python3.9/site-packages (4.2.0)\n",
      "Requirement already satisfied: pandas in /home/sebastian/dev/teamfight-tactis-data-crawler/.venv/lib/python3.9/site-packages (1.5.0)\n",
      "Requirement already satisfied: pytz>=2020.1 in /home/sebastian/dev/teamfight-tactis-data-crawler/.venv/lib/python3.9/site-packages (from pandas) (2022.2.1)\n",
      "Requirement already satisfied: python-dateutil>=2.8.1 in /home/sebastian/dev/teamfight-tactis-data-crawler/.venv/lib/python3.9/site-packages (from pandas) (2.8.2)\n",
      "Requirement already satisfied: numpy>=1.20.3 in /home/sebastian/dev/teamfight-tactis-data-crawler/.venv/lib/python3.9/site-packages (from pandas) (1.23.3)\n",
      "Requirement already satisfied: six>=1.5 in /home/sebastian/dev/teamfight-tactis-data-crawler/.venv/lib/python3.9/site-packages (from python-dateutil>=2.8.1->pandas) (1.16.0)\n",
      "Note: you may need to restart the kernel to use updated packages.\n"
     ]
    }
   ],
   "source": [
    "%pip install pymongo pandas \n",
    "import pandas as pd\n",
    "import pymongo\n"
   ]
  },
  {
   "cell_type": "code",
   "execution_count": 15,
   "id": "035f0d20",
   "metadata": {},
   "outputs": [],
   "source": [
    "mongo_client = pymongo.MongoClient(\"mongodb://localhost:27017/\")\n",
    "mongo_database = mongo_client[\"tft_data\"]\n",
    "mongo_container = mongo_database[\"challenger\"]\n",
    "all_data = list(mongo_container.find().limit(10000))"
   ]
  },
  {
   "cell_type": "code",
   "execution_count": 16,
   "id": "41054bcb",
   "metadata": {},
   "outputs": [
    {
     "data": {
      "text/plain": [
       "{'Version 12.12.450.4196 (Jun 24 2022/13:37:31) [PUBLIC] <Releases/12.12>',\n",
       " 'Version 12.13.453.3037 (Jul 11 2022/18:39:20) [PUBLIC] <Releases/12.13>',\n",
       " 'Version 12.14.455.6722 (Jul 22 2022/14:23:11) [PUBLIC] <Releases/12.14>',\n",
       " 'Version 12.14.456.5556 (Jul 27 2022/15:55:22) [PUBLIC] <Releases/12.14>',\n",
       " 'Version 12.15.458.1416 (Aug 03 2022/16:12:42) [PUBLIC] <Releases/12.15>',\n",
       " 'Version 12.16.461.7002 (Aug 18 2022/17:12:49) [PUBLIC] <Releases/12.16>',\n",
       " 'Version 12.16.462.4391 (Aug 22 2022/17:33:38) [PUBLIC] <Releases/12.16>',\n",
       " 'Version 12.17.465.2427 (Sep 02 2022/14:37:50) [PUBLIC] <Releases/12.17>',\n",
       " 'Version 12.17.467.4767 (Sep 13 2022/17:31:22) [PUBLIC] <Releases/12.17>',\n",
       " 'Version 12.18.468.3251 (Sep 16 2022/13:11:56) [PUBLIC] <Releases/12.18>'}"
      ]
     },
     "execution_count": 16,
     "metadata": {},
     "output_type": "execute_result"
    }
   ],
   "source": [
    "set([match['info']['game_version'] for match in all_data])\n"
   ]
  },
  {
   "cell_type": "code",
   "execution_count": 20,
   "id": "4d24c3a6",
   "metadata": {},
   "outputs": [
    {
     "data": {
      "text/plain": [
       "5142"
      ]
     },
     "execution_count": 20,
     "metadata": {},
     "output_type": "execute_result"
    }
   ],
   "source": [
    "# version we want: Version 12.18.468.3251 (Sep 16 2022/13:11:56) [PUBLIC] <Releases/12.18>\n",
    "\n",
    "mongo_client = pymongo.MongoClient(\"mongodb://localhost:27017/\")\n",
    "mongo_database = mongo_client[\"tft_data\"]\n",
    "mongo_container = mongo_database[\"challenger\"]\n",
    "version = 'Version 12.18.468.3251 (Sep 16 2022/13:11:56) [PUBLIC] <Releases/12.18>'\n",
    "\n",
    "all_data = list(mongo_container.find({\"info.game_version\": version}))\n",
    "len(all_data)\n",
    "\n"
   ]
  },
  {
   "cell_type": "code",
   "execution_count": null,
   "id": "d112ee02",
   "metadata": {},
   "outputs": [],
   "source": []
  }
 ],
 "metadata": {
  "kernelspec": {
   "display_name": "Python 3.9.12 ('.venv': venv)",
   "language": "python",
   "name": "python3"
  },
  "language_info": {
   "codemirror_mode": {
    "name": "ipython",
    "version": 3
   },
   "file_extension": ".py",
   "mimetype": "text/x-python",
   "name": "python",
   "nbconvert_exporter": "python",
   "pygments_lexer": "ipython3",
   "version": "3.9.12"
  },
  "vscode": {
   "interpreter": {
    "hash": "6cf61c04a036b091f887e0771b6843fe4d0b76bbf3e08300db57399e55b9acd9"
   }
  }
 },
 "nbformat": 4,
 "nbformat_minor": 5
}
